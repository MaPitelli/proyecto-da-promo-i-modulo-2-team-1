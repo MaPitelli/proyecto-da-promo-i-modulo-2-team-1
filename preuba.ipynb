{
 "cells": [
  {
   "cell_type": "code",
   "execution_count": 1,
   "metadata": {},
   "outputs": [],
   "source": [
    "import requests"
   ]
  },
  {
   "cell_type": "code",
   "execution_count": null,
   "metadata": {},
   "outputs": [],
   "source": [
    "# API KEYs\n",
    "api_key_laura = \"cbec58d7acmsh8a276b2078d6f31p149ec0jsn9a1aaa14fcd2\"\n",
    "api_key_maira = \"4b6c919b7emsh742566dcf1acb4ep1a4715jsn6188e1e3b6b5\"\n",
    "api_key_yami = \"1c7a1dcfdcmsh992d2db6f98f840p1dd3efjsnad0081cbf4cc\"\n",
    "api_key_carolina = \"f5df829911mshdbb04d20ff08f57p151f03jsn7b6b5a38ad75\""
   ]
  },
  {
   "cell_type": "code",
   "execution_count": 14,
   "metadata": {},
   "outputs": [
    {
     "data": {
      "text/plain": [
       "[{'_id': '65ef3f6d675dde801085ba3e',\n",
       "  'id': 44773,\n",
       "  'title': 'The 7 Adventures of Sinbad',\n",
       "  'vote_average': 3.697,\n",
       "  'vote_count': 33,\n",
       "  'status': 'Released',\n",
       "  'release_date': '2010-01-01T00:00:00.000Z',\n",
       "  'revenue': 0,\n",
       "  'runtime': 93,\n",
       "  'adult': False,\n",
       "  'backdrop_path': '/ouXBAVSFgJroh3dQRwvxsBKXaWr.jpg',\n",
       "  'budget': 0,\n",
       "  'imdb_id': 'tt1636629',\n",
       "  'original_language': 'en',\n",
       "  'original_title': 'The 7 Adventures of Sinbad',\n",
       "  'overview': 'Sinbad, the original Prince of Persia, must complete seven tasks in order to save the world from catastrophe.',\n",
       "  'popularity': 5.8,\n",
       "  'poster_path': 'https://image.tmdb.org/t/p/original//c6jY8DaiumXg02CMUdcdwm7thXy.jpg',\n",
       "  'tagline': 'The original Prince of Persia',\n",
       "  'genres': 'Adventure, Action, Fantasy',\n",
       "  'production_companies': 'The Asylum',\n",
       "  'production_countries': 'United States of America',\n",
       "  'spoken_languages': 'English, French'},\n",
       " {'_id': '65ef3f77675dde801085d352',\n",
       "  'id': 68212,\n",
       "  'title': 'The Terror Experiment',\n",
       "  'vote_average': 4.385,\n",
       "  'vote_count': 26,\n",
       "  'status': 'Released',\n",
       "  'release_date': '2010-01-01T00:00:00.000Z',\n",
       "  'revenue': 0,\n",
       "  'runtime': 82,\n",
       "  'adult': False,\n",
       "  'backdrop_path': '/3fzK45ZAdVY9pemT4Go5NdpNUIs.jpg',\n",
       "  'budget': 0,\n",
       "  'imdb_id': 'tt1323917',\n",
       "  'original_language': 'en',\n",
       "  'original_title': 'The Terror Experiment',\n",
       "  'overview': 'When terrorist action releases a secret government virus in the Houston Federal building, the employees become aggressive and homicidal. Federal officials quarantine the building to wipe out the infected and control the story, but a small group of uninfected are fighting to get out.',\n",
       "  'popularity': 3.079,\n",
       "  'poster_path': 'https://image.tmdb.org/t/p/original//6p0Yox5Om8vVKxg61AI4Ar55C47.jpg',\n",
       "  'tagline': 'Terror is Contagious',\n",
       "  'genres': 'Horror, Action, Thriller',\n",
       "  'production_companies': 'Remember Dreaming Productions, Freefall Films, MKM, The Cartel',\n",
       "  'production_countries': 'United States of America',\n",
       "  'spoken_languages': 'English'},\n",
       " {'_id': '65ef3f79675dde801085d996',\n",
       "  'id': 24392,\n",
       "  'title': 'The Dark Lurking',\n",
       "  'vote_average': 3.5,\n",
       "  'vote_count': 24,\n",
       "  'status': 'Released',\n",
       "  'release_date': '2010-01-01T00:00:00.000Z',\n",
       "  'revenue': 0,\n",
       "  'runtime': 96,\n",
       "  'adult': False,\n",
       "  'backdrop_path': '/chwx7bXTlpgCiD9DA87BSqpAPPo.jpg',\n",
       "  'budget': 1000000,\n",
       "  'imdb_id': 'tt1391579',\n",
       "  'original_language': 'en',\n",
       "  'original_title': 'The Dark Lurking',\n",
       "  'overview': 'The eight remaining survivors of a secret research facility barricade themselves away from a horde of ancient and deadly creatures',\n",
       "  'popularity': 3.641,\n",
       "  'poster_path': 'https://image.tmdb.org/t/p/original//oa0Lm0OhoNvmu9nEeJMvDKZXtU6.jpg',\n",
       "  'genres': 'Action, Horror, Science Fiction',\n",
       "  'production_companies': 'Left Films, Filmwerx77',\n",
       "  'production_countries': 'Australia',\n",
       "  'spoken_languages': 'Polish, English'}]"
      ]
     },
     "execution_count": 14,
     "metadata": {},
     "output_type": "execute_result"
    }
   ],
   "source": [
    "url = \"https://moviedatabase8.p.rapidapi.com/Filter\"\n",
    "\n",
    "querystring = {\"MinYear\":\"2010\",\"MaxYear\":\"2024\",\"Genre\":\"Action\",\"Limit\":\"100\"}\n",
    "\n",
    "headers = {\n",
    "\t\"x-rapidapi-key\": \"cbec58d7acmsh8a276b2078d6f31p149ec0jsn9a1aaa14fcd2\",\n",
    "\t\"x-rapidapi-host\": \"moviedatabase8.p.rapidapi.com\"\n",
    "}\n",
    "\n",
    "response_action = requests.get(url, headers=headers, params=querystring)\n",
    "\n",
    "response_action.json()[:3]"
   ]
  },
  {
   "cell_type": "code",
   "execution_count": 15,
   "metadata": {},
   "outputs": [
    {
     "data": {
      "text/plain": [
       "[{'_id': '65ef3f74675dde801085cb48',\n",
       "  'id': 52306,\n",
       "  'title': 'Hard Breakers',\n",
       "  'vote_average': 3.571,\n",
       "  'vote_count': 28,\n",
       "  'status': 'Released',\n",
       "  'release_date': '2010-01-01T00:00:00.000Z',\n",
       "  'revenue': 0,\n",
       "  'runtime': 98,\n",
       "  'adult': False,\n",
       "  'backdrop_path': '/7YGUFykvWYmFyGqjfqJXzHmNLiL.jpg',\n",
       "  'budget': 0,\n",
       "  'imdb_id': 'tt1220627',\n",
       "  'original_language': 'en',\n",
       "  'original_title': 'Hard Breakers',\n",
       "  'overview': 'Tired of the dating scene, Lindsay and Alexis take matters into their own hands, clubbing potential mates and dragging them back to their house.',\n",
       "  'popularity': 4.785,\n",
       "  'poster_path': 'https://image.tmdb.org/t/p/original//fYIP4AzBQanch0SfxXAeU7oZQP4.jpg',\n",
       "  'tagline': 'The battle of the sexes just got harder.',\n",
       "  'genres': 'Comedy',\n",
       "  'production_companies': 'Oceanfront Productions',\n",
       "  'production_countries': 'United States of America',\n",
       "  'spoken_languages': 'English'},\n",
       " {'_id': '65ef3f86675dde801085fa3b',\n",
       "  'id': 28596,\n",
       "  'title': 'Silent But Deadly',\n",
       "  'vote_average': 3.9,\n",
       "  'vote_count': 18,\n",
       "  'status': 'Released',\n",
       "  'release_date': '2010-01-01T00:00:00.000Z',\n",
       "  'revenue': 0,\n",
       "  'runtime': 80,\n",
       "  'adult': False,\n",
       "  'budget': 0,\n",
       "  'imdb_id': 'tt1237961',\n",
       "  'original_language': 'en',\n",
       "  'original_title': 'Silent But Deadly',\n",
       "  'overview': 'Thomas Capper is an unconventional and mysterious serial killer who takes aim at a Hollywood film set, by unleashing his own brand of retribution on the cast and crew.',\n",
       "  'popularity': 2.482,\n",
       "  'poster_path': 'https://image.tmdb.org/t/p/original//8GdKeDrlqf2wZBKDSjAtuuq5crb.jpg',\n",
       "  'tagline': 'Who is Thomas Capper?',\n",
       "  'genres': 'Comedy, Horror',\n",
       "  'production_companies': 'Michael Patrick Entertainment',\n",
       "  'production_countries': 'Canada, United States of America',\n",
       "  'spoken_languages': 'English'},\n",
       " {'_id': '65ef3f86675dde801085fccb',\n",
       "  'id': 43954,\n",
       "  'title': 'Shoot the Hero',\n",
       "  'vote_average': 4.033,\n",
       "  'vote_count': 18,\n",
       "  'status': 'Released',\n",
       "  'release_date': '2010-01-01T00:00:00.000Z',\n",
       "  'revenue': 0,\n",
       "  'runtime': 81,\n",
       "  'adult': False,\n",
       "  'budget': 0,\n",
       "  'homepage': 'http://www.shootthehero.com/',\n",
       "  'imdb_id': 'tt1332119',\n",
       "  'original_language': 'en',\n",
       "  'original_title': 'Shoot the Hero',\n",
       "  'overview': 'A 30-something couple unintentionally become involved in a botched jewel heist while shopping for wedding rings.',\n",
       "  'popularity': 4.474,\n",
       "  'poster_path': 'https://image.tmdb.org/t/p/original//oXgsxgvmgrOUn42aWr4wp6NIcBw.jpg',\n",
       "  'genres': 'Action, Comedy',\n",
       "  'production_countries': 'United States of America',\n",
       "  'spoken_languages': 'English'}]"
      ]
     },
     "execution_count": 15,
     "metadata": {},
     "output_type": "execute_result"
    }
   ],
   "source": [
    "url = \"https://moviedatabase8.p.rapidapi.com/Filter\"\n",
    "\n",
    "querystring = {\"MinYear\":\"2010\",\"MaxYear\":\"2024\",\"Genre\":\"Comedy\",\"Limit\":\"100\"}\n",
    "\n",
    "headers = {\n",
    "\t\"x-rapidapi-key\": \"cbec58d7acmsh8a276b2078d6f31p149ec0jsn9a1aaa14fcd2\",\n",
    "\t\"x-rapidapi-host\": \"moviedatabase8.p.rapidapi.com\"\n",
    "}\n",
    "\n",
    "response_comedy = requests.get(url, headers=headers, params=querystring)\n",
    "\n",
    "response_comedy.json()[:3]"
   ]
  },
  {
   "cell_type": "code",
   "execution_count": 16,
   "metadata": {},
   "outputs": [
    {
     "data": {
      "text/plain": [
       "[{'_id': '65ef3f52675dde801085775a',\n",
       "  'id': 113727,\n",
       "  'title': 'Dark Seduction',\n",
       "  'vote_average': 7.021,\n",
       "  'vote_count': 94,\n",
       "  'status': 'Released',\n",
       "  'release_date': '2010-01-01T00:00:00.000Z',\n",
       "  'revenue': 0,\n",
       "  'runtime': 89,\n",
       "  'adult': False,\n",
       "  'backdrop_path': '/tixiBAtAh3o6loNqF7hQhogjN0W.jpg',\n",
       "  'budget': 0,\n",
       "  'imdb_id': 'tt1874658',\n",
       "  'original_language': 'es',\n",
       "  'original_title': 'Oscura Seduccion',\n",
       "  'overview': 'Laura is a successful plastic surgeon who feels her life is somewhat empty. She meets a young nurse and falls in love and experiences sexuality to a extent not known to her. However, this spiral of desire and seduction is a dangerous game where no one is who they appear to be.',\n",
       "  'popularity': 7.429,\n",
       "  'poster_path': 'https://image.tmdb.org/t/p/original//siRGgp01iwcQAyUrkZD4wOIDquy.jpg',\n",
       "  'tagline': 'Temptation has consequences',\n",
       "  'genres': 'Drama, Thriller, Romance',\n",
       "  'production_companies': 'Lionsgate',\n",
       "  'production_countries': 'Mexico',\n",
       "  'spoken_languages': 'Spanish'},\n",
       " {'_id': '65ef3f59675dde80108585b5',\n",
       "  'id': 43615,\n",
       "  'title': 'Lula, the Son of Brazil',\n",
       "  'vote_average': 5.634,\n",
       "  'vote_count': 71,\n",
       "  'status': 'Released',\n",
       "  'release_date': '2010-01-01T00:00:00.000Z',\n",
       "  'revenue': 3785593,\n",
       "  'runtime': 130,\n",
       "  'adult': False,\n",
       "  'backdrop_path': '/ggoONRpHxtM0C0oTnszbNAjAtC.jpg',\n",
       "  'budget': 9500000,\n",
       "  'imdb_id': 'tt1442576',\n",
       "  'original_language': 'pt',\n",
       "  'original_title': 'Lula, o Filho do Brasil',\n",
       "  'overview': \"The true story of a working class boy who moves to the nation's financial capital at a young age and becomes one the most influential politicians in Brazilian history.\",\n",
       "  'popularity': 3.605,\n",
       "  'poster_path': 'https://image.tmdb.org/t/p/original//n8qp9bs1YMRo8km5s94xkwC4mpe.jpg',\n",
       "  'tagline': 'Family man. Militant. Hero. Convict. Savior. Romantic. Legend.',\n",
       "  'genres': 'Drama, History',\n",
       "  'production_countries': 'Brazil',\n",
       "  'spoken_languages': 'Portuguese'},\n",
       " {'_id': '65ef3f79675dde801085d874',\n",
       "  'id': 155711,\n",
       "  'title': 'After-Life',\n",
       "  'vote_average': 5.5,\n",
       "  'vote_count': 24,\n",
       "  'status': 'Released',\n",
       "  'release_date': '2010-01-01T00:00:00.000Z',\n",
       "  'revenue': 0,\n",
       "  'runtime': 104,\n",
       "  'adult': False,\n",
       "  'backdrop_path': '/klT10HGzcWPPL3uFucT0XY25XpQ.jpg',\n",
       "  'budget': 0,\n",
       "  'imdb_id': 'tt1785279',\n",
       "  'original_language': 'en',\n",
       "  'original_title': 'After-Life',\n",
       "  'overview': \"Michael Paton is dead, with no recollection as to why. Separated by death, Michael's body and soul have to work together to escape the After-Life, and salvage what redemption they have left.\",\n",
       "  'popularity': 1.446,\n",
       "  'poster_path': 'https://image.tmdb.org/t/p/original//xAS6IC4fydLmEi0DaW7UpVZ1Eim.jpg',\n",
       "  'tagline': \"You can't change the past, no matter how hard you try.\",\n",
       "  'genres': 'Drama',\n",
       "  'spoken_languages': 'English'}]"
      ]
     },
     "execution_count": 16,
     "metadata": {},
     "output_type": "execute_result"
    }
   ],
   "source": [
    "url = \"https://moviedatabase8.p.rapidapi.com/Filter\"\n",
    "\n",
    "querystring = {\"MinYear\":\"2010\",\"MaxYear\":\"2024\",\"Genre\":\"Drama\",\"Limit\":\"100\"}\n",
    "\n",
    "headers = {\n",
    "\t\"x-rapidapi-key\": \"cbec58d7acmsh8a276b2078d6f31p149ec0jsn9a1aaa14fcd2\",\n",
    "\t\"x-rapidapi-host\": \"moviedatabase8.p.rapidapi.com\"\n",
    "}\n",
    "\n",
    "response_drama = requests.get(url, headers=headers, params=querystring)\n",
    "\n",
    "response_drama.json()[:3]"
   ]
  },
  {
   "cell_type": "code",
   "execution_count": 23,
   "metadata": {},
   "outputs": [
    {
     "data": {
      "text/plain": [
       "[{'_id': '65ef3f77675dde801085d352',\n",
       "  'id': 68212,\n",
       "  'title': 'The Terror Experiment',\n",
       "  'vote_average': 4.385,\n",
       "  'vote_count': 26,\n",
       "  'status': 'Released',\n",
       "  'release_date': '2010-01-01T00:00:00.000Z',\n",
       "  'revenue': 0,\n",
       "  'runtime': 82,\n",
       "  'adult': False,\n",
       "  'backdrop_path': '/3fzK45ZAdVY9pemT4Go5NdpNUIs.jpg',\n",
       "  'budget': 0,\n",
       "  'imdb_id': 'tt1323917',\n",
       "  'original_language': 'en',\n",
       "  'original_title': 'The Terror Experiment',\n",
       "  'overview': 'When terrorist action releases a secret government virus in the Houston Federal building, the employees become aggressive and homicidal. Federal officials quarantine the building to wipe out the infected and control the story, but a small group of uninfected are fighting to get out.',\n",
       "  'popularity': 3.079,\n",
       "  'poster_path': 'https://image.tmdb.org/t/p/original//6p0Yox5Om8vVKxg61AI4Ar55C47.jpg',\n",
       "  'tagline': 'Terror is Contagious',\n",
       "  'genres': 'Horror, Action, Thriller',\n",
       "  'production_companies': 'Remember Dreaming Productions, Freefall Films, MKM, The Cartel',\n",
       "  'production_countries': 'United States of America',\n",
       "  'spoken_languages': 'English'},\n",
       " {'_id': '65ef3f79675dde801085d996',\n",
       "  'id': 24392,\n",
       "  'title': 'The Dark Lurking',\n",
       "  'vote_average': 3.5,\n",
       "  'vote_count': 24,\n",
       "  'status': 'Released',\n",
       "  'release_date': '2010-01-01T00:00:00.000Z',\n",
       "  'revenue': 0,\n",
       "  'runtime': 96,\n",
       "  'adult': False,\n",
       "  'backdrop_path': '/chwx7bXTlpgCiD9DA87BSqpAPPo.jpg',\n",
       "  'budget': 1000000,\n",
       "  'imdb_id': 'tt1391579',\n",
       "  'original_language': 'en',\n",
       "  'original_title': 'The Dark Lurking',\n",
       "  'overview': 'The eight remaining survivors of a secret research facility barricade themselves away from a horde of ancient and deadly creatures',\n",
       "  'popularity': 3.641,\n",
       "  'poster_path': 'https://image.tmdb.org/t/p/original//oa0Lm0OhoNvmu9nEeJMvDKZXtU6.jpg',\n",
       "  'genres': 'Action, Horror, Science Fiction',\n",
       "  'production_companies': 'Left Films, Filmwerx77',\n",
       "  'production_countries': 'Australia',\n",
       "  'spoken_languages': 'Polish, English'},\n",
       " {'_id': '65ef3f82675dde801085ed5b',\n",
       "  'id': 232888,\n",
       "  'title': 'House Swap',\n",
       "  'vote_average': 4.1,\n",
       "  'vote_count': 20,\n",
       "  'status': 'Released',\n",
       "  'release_date': '2010-01-01T00:00:00.000Z',\n",
       "  'revenue': 0,\n",
       "  'runtime': 84,\n",
       "  'adult': False,\n",
       "  'backdrop_path': '/9ENiypGTyQrBIvWd2TeqvJHXqNJ.jpg',\n",
       "  'budget': 0,\n",
       "  'imdb_id': 'tt1740762',\n",
       "  'original_language': 'en',\n",
       "  'original_title': 'House Swap',\n",
       "  'overview': 'A young California screenwriter and his composer girlfriend exchange their Echo Park home for a sprawling Tudor mansion near Glastonbury, England, in the hope of finding creative inspiration. Thinking they have the best of the bargain, they soon learn that the house comes with a stalker who seems able to enter through locked doors. Driven beyond endurance by the continual harassment, the screenwriter sets a trap to exact his revenge...',\n",
       "  'popularity': 1.437,\n",
       "  'poster_path': 'https://image.tmdb.org/t/p/original//nfRtQ3dooTjObtR94WesAqdeUuN.jpg',\n",
       "  'tagline': 'Enjoy Your Stay',\n",
       "  'genres': 'Horror, Thriller',\n",
       "  'production_companies': 'Accent Films',\n",
       "  'production_countries': 'United Kingdom, United States of America',\n",
       "  'spoken_languages': 'English'}]"
      ]
     },
     "execution_count": 23,
     "metadata": {},
     "output_type": "execute_result"
    }
   ],
   "source": [
    "url = \"https://moviedatabase8.p.rapidapi.com/Filter\"\n",
    "\n",
    "querystring = {\"MinYear\":\"2010\",\"MaxYear\":\"2024\",\"Genre\":\"Horror\",\"Limit\":\"100\"}\n",
    "\n",
    "headers = {\n",
    "\t\"x-rapidapi-key\": \"4b6c919b7emsh742566dcf1acb4ep1a4715jsn6188e1e3b6b5\",\n",
    "\t\"x-rapidapi-host\": \"moviedatabase8.p.rapidapi.com\"\n",
    "}\n",
    "\n",
    "response_horror = requests.get(url, headers=headers, params=querystring)\n",
    "\n",
    "response_horror.json()[:3]"
   ]
  },
  {
   "cell_type": "code",
   "execution_count": null,
   "metadata": {},
   "outputs": [],
   "source": [
    "# Ejemplo lista de tuplas\n",
    "[(\"Pelicula\", \"Titanic\", 1997, 12, \"abc123\"), (\"Pelicula\", \"Los Gonnies\", 1985, 6, \"abc456\"), ...]\n"
   ]
  },
  {
   "cell_type": "code",
   "execution_count": null,
   "metadata": {},
   "outputs": [],
   "source": [
    "response_action\n",
    "response_comedy\n",
    "response_drama\n",
    "response_horror"
   ]
  },
  {
   "cell_type": "code",
   "execution_count": 25,
   "metadata": {},
   "outputs": [
    {
     "data": {
      "text/plain": [
       "'The 7 Adventures of Sinbad'"
      ]
     },
     "execution_count": 25,
     "metadata": {},
     "output_type": "execute_result"
    }
   ],
   "source": [
    "nombre = response_action.json()[0]['title']\n",
    "nombre"
   ]
  },
  {
   "cell_type": "code",
   "execution_count": 26,
   "metadata": {},
   "outputs": [
    {
     "data": {
      "text/plain": [
       "'2010'"
      ]
     },
     "execution_count": 26,
     "metadata": {},
     "output_type": "execute_result"
    }
   ],
   "source": [
    "anio = response_action.json()[0]['release_date'][:4]\n",
    "anio"
   ]
  },
  {
   "cell_type": "code",
   "execution_count": 27,
   "metadata": {},
   "outputs": [
    {
     "data": {
      "text/plain": [
       "'01'"
      ]
     },
     "execution_count": 27,
     "metadata": {},
     "output_type": "execute_result"
    }
   ],
   "source": [
    "mes = response_action.json()[0]['release_date'][5:7]\n",
    "mes"
   ]
  },
  {
   "cell_type": "code",
   "execution_count": 28,
   "metadata": {},
   "outputs": [
    {
     "data": {
      "text/plain": [
       "'tt1636629'"
      ]
     },
     "execution_count": 28,
     "metadata": {},
     "output_type": "execute_result"
    }
   ],
   "source": [
    "id = response_action.json()[0]['imdb_id']\n",
    "id"
   ]
  },
  {
   "cell_type": "code",
   "execution_count": 32,
   "metadata": {},
   "outputs": [
    {
     "data": {
      "text/plain": [
       "93"
      ]
     },
     "execution_count": 32,
     "metadata": {},
     "output_type": "execute_result"
    }
   ],
   "source": [
    "tipo = response_action.json()[0]['runtime']\n",
    "tipo"
   ]
  },
  {
   "cell_type": "code",
   "execution_count": 33,
   "metadata": {},
   "outputs": [
    {
     "data": {
      "text/plain": [
       "'Película'"
      ]
     },
     "execution_count": 33,
     "metadata": {},
     "output_type": "execute_result"
    }
   ],
   "source": [
    "if tipo >= 60:\n",
    "    tipo = 'Película'\n",
    "else:\n",
    "    tipo = 'Corto'\n",
    "\n",
    "tipo"
   ]
  }
 ],
 "metadata": {
  "kernelspec": {
   "display_name": "base",
   "language": "python",
   "name": "python3"
  },
  "language_info": {
   "codemirror_mode": {
    "name": "ipython",
    "version": 3
   },
   "file_extension": ".py",
   "mimetype": "text/x-python",
   "name": "python",
   "nbconvert_exporter": "python",
   "pygments_lexer": "ipython3",
   "version": "3.11.9"
  }
 },
 "nbformat": 4,
 "nbformat_minor": 2
}
