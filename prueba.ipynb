{
 "cells": [
  {
   "cell_type": "markdown",
   "metadata": {},
   "source": [
    "# Fase 1"
   ]
  },
  {
   "cell_type": "code",
   "execution_count": 142,
   "metadata": {},
   "outputs": [],
   "source": [
    "# Importar librerías para tratamiento de datos\n",
    "# -----------------------------------------------------------------------\n",
    "import pandas as pd  \n",
    "\n",
    "# Importar librerías para web scraping y manipulación de datos\n",
    "# -----------------------------------------------------------------------\n",
    "from bs4 import BeautifulSoup\n",
    "import requests\n",
    "\n",
    "# Importar librerías para automatización de navegadores web con Selenium\n",
    "# -----------------------------------------------------------------------\n",
    "from selenium import webdriver  \n",
    "from webdriver_manager.chrome import ChromeDriverManager  \n",
    "from selenium.webdriver.common.keys import Keys  \n",
    "from selenium.webdriver.support.ui import Select \n",
    "\n",
    "# Importar librerías para pausar la ejecución\n",
    "# -----------------------------------------------------------------------\n",
    "from time import sleep  "
   ]
  },
  {
   "cell_type": "code",
   "execution_count": 143,
   "metadata": {},
   "outputs": [],
   "source": [
    "# API KEYs\n",
    "api_key_laura = \"cbec58d7acmsh8a276b2078d6f31p149ec0jsn9a1aaa14fcd2\" \n",
    "api_key_maira = \"4b6c919b7emsh742566dcf1acb4ep1a4715jsn6188e1e3b6b5\" # X \n",
    "api_key_yami = \"1c7a1dcfdcmsh992d2db6f98f840p1dd3efjsnad0081cbf4cc\" \n",
    "api_key_carolina = \"f5df829911mshdbb04d20ff08f57p151f03jsn7b6b5a38ad75\" # X\n",
    "api_key_laura_2 = \"4a43c28e7amsh175da8db3bba91fp1df128jsnd69c7eb43eba\" # Queda 8\n",
    "api_key_laura_3 = \"405016e74bmshd8bc625d02ea331p1c2d16jsn515d720e7ca5\" # Queda 10"
   ]
  },
  {
   "cell_type": "code",
   "execution_count": 23,
   "metadata": {},
   "outputs": [],
   "source": [
    "# 10 páginas por año\n",
    "# hacer que funcione con pocos datos "
   ]
  },
  {
   "cell_type": "code",
   "execution_count": 193,
   "metadata": {},
   "outputs": [],
   "source": [
    "resultados = {2010:{\"Action\":[], \"Comedy\":[], \"Drama\":[]}, \n",
    "              2011:{\"Action\":[], \"Comedy\":[], \"Drama\":[]},\n",
    "              2012:{\"Action\":[], \"Comedy\":[], \"Drama\":[]},\n",
    "              2013:{\"Action\":[], \"Comedy\":[], \"Drama\":[]},\n",
    "              2014:{\"Action\":[], \"Comedy\":[], \"Drama\":[]},\n",
    "              2015:{\"Action\":[], \"Comedy\":[], \"Drama\":[]},\n",
    "              2016:{\"Action\":[], \"Comedy\":[], \"Drama\":[]},\n",
    "              2017:{\"Action\":[], \"Comedy\":[], \"Drama\":[]},\n",
    "              2018:{\"Action\":[], \"Comedy\":[], \"Drama\":[]},\n",
    "              2019:{\"Action\":[], \"Comedy\":[], \"Drama\":[]},\n",
    "              2020:{\"Action\":[], \"Comedy\":[], \"Drama\":[]},\n",
    "              2021:{\"Action\":[], \"Comedy\":[], \"Drama\":[]},\n",
    "              2022:{\"Action\":[], \"Comedy\":[], \"Drama\":[]},\n",
    "              2023:{\"Action\":[], \"Comedy\":[], \"Drama\":[]},\n",
    "              2024:{\"Action\":[], \"Comedy\":[], \"Drama\":[]}} # Estructura inicial del diccionario con los resultados. NO EJECUTAR MAS"
   ]
  },
  {
   "cell_type": "code",
   "execution_count": 212,
   "metadata": {},
   "outputs": [
    {
     "name": "stdout",
     "output_type": "stream",
     "text": [
      "Se ha añadido la página 1 del genero Action del año 2021.\n",
      "Se ha añadido la página 2 del genero Action del año 2021.\n",
      "Se ha añadido la página 3 del genero Action del año 2021.\n",
      "Se ha añadido la página 4 del genero Action del año 2021.\n",
      "Se ha añadido la página 5 del genero Action del año 2021.\n",
      "Se ha añadido la página 6 del genero Action del año 2021.\n",
      "Se ha añadido la página 7 del genero Action del año 2021.\n",
      "Se ha añadido la página 8 del genero Action del año 2021.\n",
      "Se ha añadido la página 9 del genero Action del año 2021.\n",
      "Se ha añadido la página 10 del genero Action del año 2021.\n",
      "Se ha añadido la página 1 del genero Comedy del año 2021.\n",
      "Se ha añadido la página 2 del genero Comedy del año 2021.\n",
      "Se ha añadido la página 3 del genero Comedy del año 2021.\n",
      "Se ha añadido la página 4 del genero Comedy del año 2021.\n",
      "Se ha añadido la página 5 del genero Comedy del año 2021.\n",
      "Se ha añadido la página 6 del genero Comedy del año 2021.\n",
      "Se ha añadido la página 7 del genero Comedy del año 2021.\n",
      "Se ha añadido la página 8 del genero Comedy del año 2021.\n",
      "Se ha añadido la página 9 del genero Comedy del año 2021.\n",
      "Se ha añadido la página 10 del genero Comedy del año 2021.\n",
      "Se ha añadido la página 1 del genero Drama del año 2021.\n",
      "Se ha añadido la página 2 del genero Drama del año 2021.\n",
      "Se ha añadido la página 3 del genero Drama del año 2021.\n",
      "Se ha añadido la página 4 del genero Drama del año 2021.\n",
      "Se ha añadido la página 5 del genero Drama del año 2021.\n",
      "Se ha añadido la página 6 del genero Drama del año 2021.\n",
      "Se ha añadido la página 7 del genero Drama del año 2021.\n",
      "Se ha añadido la página 8 del genero Drama del año 2021.\n",
      "Se ha añadido la página 9 del genero Drama del año 2021.\n",
      "Se ha añadido la página 10 del genero Drama del año 2021.\n",
      "Se ha añadido la página 1 del genero Action del año 2022.\n",
      "Se ha añadido la página 2 del genero Action del año 2022.\n",
      "Se ha añadido la página 3 del genero Action del año 2022.\n",
      "Se ha añadido la página 4 del genero Action del año 2022.\n",
      "Se ha añadido la página 5 del genero Action del año 2022.\n",
      "Se ha añadido la página 6 del genero Action del año 2022.\n",
      "Se ha añadido la página 7 del genero Action del año 2022.\n",
      "Se ha añadido la página 8 del genero Action del año 2022.\n",
      "Se ha añadido la página 9 del genero Action del año 2022.\n",
      "Se ha añadido la página 10 del genero Action del año 2022.\n",
      "Se ha añadido la página 1 del genero Comedy del año 2022.\n",
      "Se ha añadido la página 2 del genero Comedy del año 2022.\n",
      "Se ha añadido la página 3 del genero Comedy del año 2022.\n",
      "Se ha añadido la página 4 del genero Comedy del año 2022.\n",
      "Se ha añadido la página 5 del genero Comedy del año 2022.\n",
      "Se ha añadido la página 6 del genero Comedy del año 2022.\n",
      "Se ha añadido la página 7 del genero Comedy del año 2022.\n",
      "Se ha añadido la página 8 del genero Comedy del año 2022.\n",
      "Se ha añadido la página 9 del genero Comedy del año 2022.\n",
      "Se ha añadido la página 10 del genero Comedy del año 2022.\n",
      "Se ha añadido la página 1 del genero Drama del año 2022.\n",
      "Se ha añadido la página 2 del genero Drama del año 2022.\n",
      "Se ha añadido la página 3 del genero Drama del año 2022.\n",
      "Se ha añadido la página 4 del genero Drama del año 2022.\n",
      "Se ha añadido la página 5 del genero Drama del año 2022.\n",
      "Se ha añadido la página 6 del genero Drama del año 2022.\n",
      "Se ha añadido la página 7 del genero Drama del año 2022.\n",
      "Se ha añadido la página 8 del genero Drama del año 2022.\n",
      "Se ha añadido la página 9 del genero Drama del año 2022.\n",
      "Se ha añadido la página 10 del genero Drama del año 2022.\n",
      "Se ha añadido la página 1 del genero Action del año 2023.\n",
      "Se ha añadido la página 2 del genero Action del año 2023.\n",
      "Se ha añadido la página 3 del genero Action del año 2023.\n",
      "Se ha añadido la página 4 del genero Action del año 2023.\n",
      "Se ha añadido la página 5 del genero Action del año 2023.\n",
      "Se ha añadido la página 6 del genero Action del año 2023.\n",
      "Se ha añadido la página 7 del genero Action del año 2023.\n",
      "Se ha añadido la página 8 del genero Action del año 2023.\n",
      "Se ha añadido la página 9 del genero Action del año 2023.\n",
      "Se ha añadido la página 10 del genero Action del año 2023.\n",
      "Se ha añadido la página 1 del genero Comedy del año 2023.\n",
      "Se ha añadido la página 2 del genero Comedy del año 2023.\n",
      "Se ha añadido la página 3 del genero Comedy del año 2023.\n",
      "Se ha añadido la página 4 del genero Comedy del año 2023.\n",
      "Se ha añadido la página 5 del genero Comedy del año 2023.\n",
      "Se ha añadido la página 6 del genero Comedy del año 2023.\n",
      "Se ha añadido la página 7 del genero Comedy del año 2023.\n",
      "Se ha añadido la página 8 del genero Comedy del año 2023.\n",
      "Se ha añadido la página 9 del genero Comedy del año 2023.\n",
      "Se ha añadido la página 10 del genero Comedy del año 2023.\n",
      "Se ha añadido la página 1 del genero Drama del año 2023.\n",
      "Se ha añadido la página 2 del genero Drama del año 2023.\n",
      "Se ha añadido la página 3 del genero Drama del año 2023.\n",
      "Se ha añadido la página 4 del genero Drama del año 2023.\n",
      "Se ha añadido la página 5 del genero Drama del año 2023.\n",
      "Se ha añadido la página 6 del genero Drama del año 2023.\n",
      "Se ha añadido la página 7 del genero Drama del año 2023.\n",
      "Se ha añadido la página 8 del genero Drama del año 2023.\n",
      "Se ha añadido la página 9 del genero Drama del año 2023.\n",
      "Se ha añadido la página 10 del genero Drama del año 2023.\n",
      "Se ha añadido la página 1 del genero Action del año 2024.\n",
      "Se ha añadido la página 2 del genero Action del año 2024.\n",
      "Se ha añadido la página 3 del genero Action del año 2024.\n",
      "Se ha añadido la página 4 del genero Action del año 2024.\n",
      "Se ha añadido la página 5 del genero Action del año 2024.\n",
      "Se ha añadido la página 6 del genero Action del año 2024.\n",
      "Se ha añadido la página 7 del genero Action del año 2024.\n",
      "Se ha añadido la página 8 del genero Action del año 2024.\n",
      "Se ha añadido la página 9 del genero Action del año 2024.\n",
      "Se ha añadido la página 10 del genero Action del año 2024.\n",
      "Se ha añadido la página 1 del genero Comedy del año 2024.\n",
      "Se ha añadido la página 2 del genero Comedy del año 2024.\n",
      "Se ha añadido la página 3 del genero Comedy del año 2024.\n",
      "Se ha añadido la página 4 del genero Comedy del año 2024.\n",
      "Se ha añadido la página 5 del genero Comedy del año 2024.\n",
      "Se ha añadido la página 6 del genero Comedy del año 2024.\n",
      "Se ha añadido la página 7 del genero Comedy del año 2024.\n",
      "Se ha añadido la página 8 del genero Comedy del año 2024.\n",
      "Se ha añadido la página 9 del genero Comedy del año 2024.\n",
      "Se ha añadido la página 10 del genero Comedy del año 2024.\n",
      "Se ha añadido la página 1 del genero Drama del año 2024.\n",
      "Se ha añadido la página 2 del genero Drama del año 2024.\n",
      "Se ha añadido la página 3 del genero Drama del año 2024.\n",
      "Se ha añadido la página 4 del genero Drama del año 2024.\n",
      "Se ha añadido la página 5 del genero Drama del año 2024.\n",
      "Se ha añadido la página 6 del genero Drama del año 2024.\n",
      "Se ha añadido la página 7 del genero Drama del año 2024.\n",
      "Se ha añadido la página 8 del genero Drama del año 2024.\n",
      "Se ha añadido la página 9 del genero Drama del año 2024.\n",
      "Se ha añadido la página 10 del genero Drama del año 2024.\n"
     ]
    }
   ],
   "source": [
    "# Variables con los valores que necesitamos para nuestro scraping bucle: \n",
    "anios = [i for i in range(2021, 2025)]\n",
    "generos = [\"Action\", \"Comedy\", \"Drama\"] \n",
    "paginas = [i for i in range(1, 11)]\n",
    "\n",
    "error_ocurred = False # Variable para controlar que el bucle se rompa por completo si el status code de la request es diferente de 200.\n",
    "\n",
    "for anio in anios:\n",
    "    if error_ocurred: # Esto es lo mismo que if error_ocurred == True:\n",
    "        break\n",
    "    for genero in generos:\n",
    "        if error_ocurred:\n",
    "            break\n",
    "        for pagina in paginas:\n",
    "            # 2010, Action, pg1 >> 1a iter\n",
    "            url = f\"https://moviesdatabase.p.rapidapi.com/titles?genre={genero}&year={anio}&page={pagina}&limit=50\"\n",
    "            # querystring = {\"Year\":f\"{anio}\",\"Genre\":f\"{genero}\",\"Page\":f\"{pagina}\"}\n",
    "            headers = {\"x-rapidapi-key\": api_key_laura, \"x-rapidapi-host\": \"moviesdatabase.p.rapidapi.com\"}\n",
    "            response = requests.get(url, headers=headers)\n",
    "            if response.status_code != 200:\n",
    "                print(f\"El status code es: {response.status_code}.\")\n",
    "                print(f\"El problema es: {response.reason}.\")\n",
    "                error_ocurred = True\n",
    "                break\n",
    "            else:\n",
    "                resultados[anio][genero].append(response.json())\n",
    "                print(f\"Se ha añadido la página {pagina} del genero {genero} del año {anio}.\")"
   ]
  },
  {
   "cell_type": "code",
   "execution_count": 240,
   "metadata": {},
   "outputs": [
    {
     "data": {
      "text/plain": [
       "dict_keys(['page', 'next', 'entries', 'results'])"
      ]
     },
     "execution_count": 240,
     "metadata": {},
     "output_type": "execute_result"
    }
   ],
   "source": [
    "resultados[2021]['Action'][0].keys()"
   ]
  },
  {
   "cell_type": "code",
   "execution_count": 244,
   "metadata": {},
   "outputs": [
    {
     "data": {
      "text/html": [
       "<div>\n",
       "<style scoped>\n",
       "    .dataframe tbody tr th:only-of-type {\n",
       "        vertical-align: middle;\n",
       "    }\n",
       "\n",
       "    .dataframe tbody tr th {\n",
       "        vertical-align: top;\n",
       "    }\n",
       "\n",
       "    .dataframe thead th {\n",
       "        text-align: right;\n",
       "    }\n",
       "</style>\n",
       "<table border=\"1\" class=\"dataframe\">\n",
       "  <thead>\n",
       "    <tr style=\"text-align: right;\">\n",
       "      <th></th>\n",
       "      <th>Unnamed: 0</th>\n",
       "      <th>2010</th>\n",
       "      <th>2011</th>\n",
       "      <th>2012</th>\n",
       "      <th>2013</th>\n",
       "      <th>2014</th>\n",
       "      <th>2015</th>\n",
       "      <th>2016</th>\n",
       "      <th>2017</th>\n",
       "      <th>2018</th>\n",
       "      <th>2019</th>\n",
       "      <th>2020</th>\n",
       "      <th>2021</th>\n",
       "      <th>2022</th>\n",
       "      <th>2023</th>\n",
       "      <th>2024</th>\n",
       "    </tr>\n",
       "  </thead>\n",
       "  <tbody>\n",
       "    <tr>\n",
       "      <th>0</th>\n",
       "      <td>Action</td>\n",
       "      <td>[{'page': '1', 'next': '/titles?page=2&amp;limit=5...</td>\n",
       "      <td>[{'page': '1', 'next': '/titles?page=2&amp;limit=5...</td>\n",
       "      <td>[{'page': '1', 'next': '/titles?page=2&amp;limit=5...</td>\n",
       "      <td>[{'page': '1', 'next': '/titles?page=2&amp;limit=5...</td>\n",
       "      <td>[{'page': '1', 'next': '/titles?page=2&amp;limit=5...</td>\n",
       "      <td>[{'page': '1', 'next': '/titles?page=2&amp;limit=5...</td>\n",
       "      <td>[{'page': '1', 'next': '/titles?page=2&amp;limit=5...</td>\n",
       "      <td>[{'page': '1', 'next': '/titles?page=2&amp;limit=5...</td>\n",
       "      <td>[{'page': '1', 'next': '/titles?page=2&amp;limit=5...</td>\n",
       "      <td>[{'page': '1', 'next': '/titles?page=2&amp;limit=5...</td>\n",
       "      <td>[{'page': '1', 'next': '/titles?page=2&amp;limit=5...</td>\n",
       "      <td>[{'page': '1', 'next': '/titles?page=2&amp;limit=5...</td>\n",
       "      <td>[{'page': '1', 'next': '/titles?page=2&amp;limit=5...</td>\n",
       "      <td>[{'page': '1', 'next': '/titles?page=2&amp;limit=5...</td>\n",
       "      <td>[{'page': '1', 'next': '/titles?page=2&amp;limit=5...</td>\n",
       "    </tr>\n",
       "    <tr>\n",
       "      <th>1</th>\n",
       "      <td>Comedy</td>\n",
       "      <td>[{'page': '1', 'next': '/titles?page=2&amp;limit=5...</td>\n",
       "      <td>[{'page': '1', 'next': '/titles?page=2&amp;limit=5...</td>\n",
       "      <td>[{'page': '1', 'next': '/titles?page=2&amp;limit=5...</td>\n",
       "      <td>[{'page': '1', 'next': '/titles?page=2&amp;limit=5...</td>\n",
       "      <td>[{'page': '1', 'next': '/titles?page=2&amp;limit=5...</td>\n",
       "      <td>[{'page': '1', 'next': '/titles?page=2&amp;limit=5...</td>\n",
       "      <td>[{'page': '1', 'next': '/titles?page=2&amp;limit=5...</td>\n",
       "      <td>[{'page': '1', 'next': '/titles?page=2&amp;limit=5...</td>\n",
       "      <td>[{'page': '1', 'next': '/titles?page=2&amp;limit=5...</td>\n",
       "      <td>[{'page': '1', 'next': '/titles?page=2&amp;limit=5...</td>\n",
       "      <td>[{'page': '1', 'next': '/titles?page=2&amp;limit=5...</td>\n",
       "      <td>[{'page': '1', 'next': '/titles?page=2&amp;limit=5...</td>\n",
       "      <td>[{'page': '1', 'next': '/titles?page=2&amp;limit=5...</td>\n",
       "      <td>[{'page': '1', 'next': '/titles?page=2&amp;limit=5...</td>\n",
       "      <td>[{'page': '1', 'next': '/titles?page=2&amp;limit=5...</td>\n",
       "    </tr>\n",
       "    <tr>\n",
       "      <th>2</th>\n",
       "      <td>Drama</td>\n",
       "      <td>[{'page': '1', 'next': '/titles?page=2&amp;limit=5...</td>\n",
       "      <td>[{'page': '1', 'next': '/titles?page=2&amp;limit=5...</td>\n",
       "      <td>[{'page': '1', 'next': '/titles?page=2&amp;limit=5...</td>\n",
       "      <td>[{'page': '1', 'next': '/titles?page=2&amp;limit=5...</td>\n",
       "      <td>[{'page': '1', 'next': '/titles?page=2&amp;limit=5...</td>\n",
       "      <td>[{'page': '1', 'next': '/titles?page=2&amp;limit=5...</td>\n",
       "      <td>[{'page': '1', 'next': '/titles?page=2&amp;limit=5...</td>\n",
       "      <td>[{'page': '1', 'next': '/titles?page=2&amp;limit=5...</td>\n",
       "      <td>[{'page': '1', 'next': '/titles?page=2&amp;limit=5...</td>\n",
       "      <td>[{'page': '1', 'next': '/titles?page=2&amp;limit=5...</td>\n",
       "      <td>[{'page': '1', 'next': '/titles?page=2&amp;limit=5...</td>\n",
       "      <td>[{'page': '1', 'next': '/titles?page=2&amp;limit=5...</td>\n",
       "      <td>[{'page': '1', 'next': '/titles?page=2&amp;limit=5...</td>\n",
       "      <td>[{'page': '1', 'next': '/titles?page=2&amp;limit=5...</td>\n",
       "      <td>[{'page': '1', 'next': '/titles?page=2&amp;limit=5...</td>\n",
       "    </tr>\n",
       "  </tbody>\n",
       "</table>\n",
       "</div>"
      ],
      "text/plain": [
       "  Unnamed: 0                                               2010  \\\n",
       "0     Action  [{'page': '1', 'next': '/titles?page=2&limit=5...   \n",
       "1     Comedy  [{'page': '1', 'next': '/titles?page=2&limit=5...   \n",
       "2      Drama  [{'page': '1', 'next': '/titles?page=2&limit=5...   \n",
       "\n",
       "                                                2011  \\\n",
       "0  [{'page': '1', 'next': '/titles?page=2&limit=5...   \n",
       "1  [{'page': '1', 'next': '/titles?page=2&limit=5...   \n",
       "2  [{'page': '1', 'next': '/titles?page=2&limit=5...   \n",
       "\n",
       "                                                2012  \\\n",
       "0  [{'page': '1', 'next': '/titles?page=2&limit=5...   \n",
       "1  [{'page': '1', 'next': '/titles?page=2&limit=5...   \n",
       "2  [{'page': '1', 'next': '/titles?page=2&limit=5...   \n",
       "\n",
       "                                                2013  \\\n",
       "0  [{'page': '1', 'next': '/titles?page=2&limit=5...   \n",
       "1  [{'page': '1', 'next': '/titles?page=2&limit=5...   \n",
       "2  [{'page': '1', 'next': '/titles?page=2&limit=5...   \n",
       "\n",
       "                                                2014  \\\n",
       "0  [{'page': '1', 'next': '/titles?page=2&limit=5...   \n",
       "1  [{'page': '1', 'next': '/titles?page=2&limit=5...   \n",
       "2  [{'page': '1', 'next': '/titles?page=2&limit=5...   \n",
       "\n",
       "                                                2015  \\\n",
       "0  [{'page': '1', 'next': '/titles?page=2&limit=5...   \n",
       "1  [{'page': '1', 'next': '/titles?page=2&limit=5...   \n",
       "2  [{'page': '1', 'next': '/titles?page=2&limit=5...   \n",
       "\n",
       "                                                2016  \\\n",
       "0  [{'page': '1', 'next': '/titles?page=2&limit=5...   \n",
       "1  [{'page': '1', 'next': '/titles?page=2&limit=5...   \n",
       "2  [{'page': '1', 'next': '/titles?page=2&limit=5...   \n",
       "\n",
       "                                                2017  \\\n",
       "0  [{'page': '1', 'next': '/titles?page=2&limit=5...   \n",
       "1  [{'page': '1', 'next': '/titles?page=2&limit=5...   \n",
       "2  [{'page': '1', 'next': '/titles?page=2&limit=5...   \n",
       "\n",
       "                                                2018  \\\n",
       "0  [{'page': '1', 'next': '/titles?page=2&limit=5...   \n",
       "1  [{'page': '1', 'next': '/titles?page=2&limit=5...   \n",
       "2  [{'page': '1', 'next': '/titles?page=2&limit=5...   \n",
       "\n",
       "                                                2019  \\\n",
       "0  [{'page': '1', 'next': '/titles?page=2&limit=5...   \n",
       "1  [{'page': '1', 'next': '/titles?page=2&limit=5...   \n",
       "2  [{'page': '1', 'next': '/titles?page=2&limit=5...   \n",
       "\n",
       "                                                2020  \\\n",
       "0  [{'page': '1', 'next': '/titles?page=2&limit=5...   \n",
       "1  [{'page': '1', 'next': '/titles?page=2&limit=5...   \n",
       "2  [{'page': '1', 'next': '/titles?page=2&limit=5...   \n",
       "\n",
       "                                                2021  \\\n",
       "0  [{'page': '1', 'next': '/titles?page=2&limit=5...   \n",
       "1  [{'page': '1', 'next': '/titles?page=2&limit=5...   \n",
       "2  [{'page': '1', 'next': '/titles?page=2&limit=5...   \n",
       "\n",
       "                                                2022  \\\n",
       "0  [{'page': '1', 'next': '/titles?page=2&limit=5...   \n",
       "1  [{'page': '1', 'next': '/titles?page=2&limit=5...   \n",
       "2  [{'page': '1', 'next': '/titles?page=2&limit=5...   \n",
       "\n",
       "                                                2023  \\\n",
       "0  [{'page': '1', 'next': '/titles?page=2&limit=5...   \n",
       "1  [{'page': '1', 'next': '/titles?page=2&limit=5...   \n",
       "2  [{'page': '1', 'next': '/titles?page=2&limit=5...   \n",
       "\n",
       "                                                2024  \n",
       "0  [{'page': '1', 'next': '/titles?page=2&limit=5...  \n",
       "1  [{'page': '1', 'next': '/titles?page=2&limit=5...  \n",
       "2  [{'page': '1', 'next': '/titles?page=2&limit=5...  "
      ]
     },
     "execution_count": 244,
     "metadata": {},
     "output_type": "execute_result"
    }
   ],
   "source": [
    "df_resultados = pd.read_csv('datos2010_2024.csv')\n",
    "df_resultados"
   ]
  },
  {
   "cell_type": "code",
   "execution_count": 250,
   "metadata": {},
   "outputs": [
    {
     "data": {
      "text/plain": [
       "{'_id': '61e58452ef99b1c543420957',\n",
       " 'id': 'tt0374463',\n",
       " 'primaryImage': {'id': 'rm2679978240',\n",
       "  'width': 2109,\n",
       "  'height': 3105,\n",
       "  'url': 'https://m.media-amazon.com/images/M/MV5BNmEwNmI1MjItNjNjYy00NDE5LWJiNTYtM2QxMTI5ZjllZTBhL2ltYWdlXkEyXkFqcGdeQXVyNTAyODkwOQ@@._V1_.jpg',\n",
       "  'caption': {'plainText': 'The Pacific (2010)', '__typename': 'Markdown'},\n",
       "  '__typename': 'Image'},\n",
       " 'titleType': {'text': 'TV Mini Series',\n",
       "  'id': 'tvMiniSeries',\n",
       "  'isSeries': True,\n",
       "  'isEpisode': False,\n",
       "  '__typename': 'TitleType'},\n",
       " 'titleText': {'text': 'The Pacific', '__typename': 'TitleText'},\n",
       " 'originalTitleText': {'text': 'The Pacific', '__typename': 'TitleText'},\n",
       " 'releaseYear': {'year': 2010, 'endYear': 2010, '__typename': 'YearRange'},\n",
       " 'releaseDate': {'day': None,\n",
       "  'month': 4,\n",
       "  'year': 2010,\n",
       "  '__typename': 'ReleaseDate'}}"
      ]
     },
     "execution_count": 250,
     "metadata": {},
     "output_type": "execute_result"
    }
   ],
   "source": [
    "resultados[2010]['Action'][0]['results'][0]\n"
   ]
  },
  {
   "cell_type": "code",
   "execution_count": 187,
   "metadata": {},
   "outputs": [
    {
     "name": "stdout",
     "output_type": "stream",
     "text": [
      "Red Princess Blues 2010 None tt0903012 Short\n"
     ]
    }
   ],
   "source": [
    "nombre = resultados[2010]['Action'][0]['results'][20]['titleText']['text']\n",
    "anio = resultados[2010]['Action'][0]['results'][20]['releaseDate']['year']\n",
    "mes = resultados[2010]['Action'][0]['results'][20]['releaseDate']['month']\n",
    "id_imdb = resultados[2010]['Action'][0]['results'][20]['id']\n",
    "tipo = resultados[2010]['Action'][0]['results'][20]['titleType']['text'] # Short or Movie >>> descartar todo lo demás\n",
    "\n",
    "print(nombre, anio, mes, id_imdb, tipo)"
   ]
  },
  {
   "cell_type": "code",
   "execution_count": 245,
   "metadata": {},
   "outputs": [],
   "source": [
    "# Ejemplo lista de tuplas\n",
    "# [(\"Pelicula\", \"Titanic\", 1997, 12, \"abc123\"), (\"Pelicula\", \"Los Gonnies\", 1985, 6, \"abc456\"), ...]"
   ]
  },
  {
   "cell_type": "code",
   "execution_count": 260,
   "metadata": {},
   "outputs": [],
   "source": [
    "resultados_filtrados = {2010:{\"Action\":[], \"Comedy\":[], \"Drama\":[]}, \n",
    "                        2011:{\"Action\":[], \"Comedy\":[], \"Drama\":[]},\n",
    "                        2012:{\"Action\":[], \"Comedy\":[], \"Drama\":[]},\n",
    "                        2013:{\"Action\":[], \"Comedy\":[], \"Drama\":[]},\n",
    "                        2014:{\"Action\":[], \"Comedy\":[], \"Drama\":[]},\n",
    "                        2015:{\"Action\":[], \"Comedy\":[], \"Drama\":[]},\n",
    "                        2016:{\"Action\":[], \"Comedy\":[], \"Drama\":[]},\n",
    "                        2017:{\"Action\":[], \"Comedy\":[], \"Drama\":[]},\n",
    "                        2018:{\"Action\":[], \"Comedy\":[], \"Drama\":[]},\n",
    "                        2019:{\"Action\":[], \"Comedy\":[], \"Drama\":[]},\n",
    "                        2020:{\"Action\":[], \"Comedy\":[], \"Drama\":[]},\n",
    "                        2021:{\"Action\":[], \"Comedy\":[], \"Drama\":[]},\n",
    "                        2022:{\"Action\":[], \"Comedy\":[], \"Drama\":[]},\n",
    "                        2023:{\"Action\":[], \"Comedy\":[], \"Drama\":[]},\n",
    "                        2024:{\"Action\":[], \"Comedy\":[], \"Drama\":[]}} # Estructura inicial del diccionario con los resultados filtrados"
   ]
  },
  {
   "cell_type": "code",
   "execution_count": 262,
   "metadata": {},
   "outputs": [
    {
     "data": {
      "text/plain": [
       "dict_keys([2010, 2011, 2012, 2013, 2014, 2015, 2016, 2017, 2018, 2019, 2020, 2021, 2022, 2023, 2024])"
      ]
     },
     "execution_count": 262,
     "metadata": {},
     "output_type": "execute_result"
    }
   ],
   "source": [
    "anios = [i for i in range(2010, 2025)]\n",
    "generos = ['Action', 'Comedy', 'Drama']\n",
    "paginas = [i for i in range(0, 10)]\n",
    "elementos = [i for i in range(0, 50)]\n",
    "errores = []\n",
    "filtro = ['short', 'movie']\n",
    "\n",
    "for anio in anios:\n",
    "    for genero in generos:\n",
    "        for pagina in paginas:\n",
    "            for elemento in elementos:\n",
    "                tipo_original = resultados[anio][genero][pagina]['results'][elemento]['titleType']['text'] # Short or Movie >>> descartar todo lo demás\n",
    "                if tipo_original.lower() not in filtro:\n",
    "                    continue\n",
    "                else:\n",
    "                    tipo = tipo_original\n",
    "                try:\n",
    "                    nombre = resultados[anio][genero][pagina]['results'][elemento]['titleText']['text']\n",
    "                    year = resultados[anio][genero][pagina]['results'][elemento]['releaseDate']['year']\n",
    "                    month = resultados[anio][genero][pagina]['results'][elemento]['releaseDate']['month']\n",
    "                    id_imdb = resultados[anio][genero][pagina]['results'][elemento]['id']\n",
    "                    tupla = tipo, nombre, year, month, id_imdb\n",
    "                    resultados_filtrados[anio][genero].append(tupla)\n",
    "                except Exception as e:\n",
    "                    error = f\"Año: {anio}, Genero: {genero}, Página: {pagina}, Elemento: {elemento}, tipo: {e}.\"\n",
    "                    errores.append(error)\n"
   ]
  },
  {
   "cell_type": "code",
   "execution_count": 257,
   "metadata": {},
   "outputs": [
    {
     "data": {
      "text/plain": [
       "'TV Episode'"
      ]
     },
     "execution_count": 257,
     "metadata": {},
     "output_type": "execute_result"
    }
   ],
   "source": [
    "resultados[2010]['Action'][1]['results'][0]['titleType']['text']"
   ]
  },
  {
   "cell_type": "code",
   "execution_count": 274,
   "metadata": {},
   "outputs": [],
   "source": [
    "# Así guardamos la info de la extracción de manera permanente.\n",
    "# df.to_csv('nombre_archivo.csv')\n",
    "# df.to_json('nombre_archivo.json')\n",
    "\n",
    "df = pd.DataFrame(resultados_filtrados)\n",
    "df.to_csv('datos_filtrados_2010_2024.csv')\n",
    "df.to_json('datos_filtrados_2010_2024.json')"
   ]
  },
  {
   "cell_type": "code",
   "execution_count": 273,
   "metadata": {},
   "outputs": [
    {
     "name": "stdout",
     "output_type": "stream",
     "text": [
      "Año: 2010: Hay 180 resultados para Action.\n",
      "Año: 2010: Hay 58 resultados para Comedy.\n",
      "Año: 2010: Hay 96 resultados para Drama.\n",
      "----------------------------------------------------------------------------------------------------\n",
      "Año: 2011: Hay 89 resultados para Action.\n",
      "Año: 2011: Hay 34 resultados para Comedy.\n",
      "Año: 2011: Hay 51 resultados para Drama.\n",
      "----------------------------------------------------------------------------------------------------\n",
      "Año: 2012: Hay 76 resultados para Action.\n",
      "Año: 2012: Hay 22 resultados para Comedy.\n",
      "Año: 2012: Hay 30 resultados para Drama.\n",
      "----------------------------------------------------------------------------------------------------\n",
      "Año: 2013: Hay 49 resultados para Action.\n",
      "Año: 2013: Hay 24 resultados para Comedy.\n",
      "Año: 2013: Hay 32 resultados para Drama.\n",
      "----------------------------------------------------------------------------------------------------\n",
      "Año: 2014: Hay 27 resultados para Action.\n",
      "Año: 2014: Hay 19 resultados para Comedy.\n",
      "Año: 2014: Hay 34 resultados para Drama.\n",
      "----------------------------------------------------------------------------------------------------\n",
      "Año: 2015: Hay 16 resultados para Action.\n",
      "Año: 2015: Hay 11 resultados para Comedy.\n",
      "Año: 2015: Hay 16 resultados para Drama.\n",
      "----------------------------------------------------------------------------------------------------\n",
      "Año: 2016: Hay 36 resultados para Action.\n",
      "Año: 2016: Hay 17 resultados para Comedy.\n",
      "Año: 2016: Hay 28 resultados para Drama.\n",
      "----------------------------------------------------------------------------------------------------\n",
      "Año: 2017: Hay 30 resultados para Action.\n",
      "Año: 2017: Hay 30 resultados para Comedy.\n",
      "Año: 2017: Hay 21 resultados para Drama.\n",
      "----------------------------------------------------------------------------------------------------\n",
      "Año: 2018: Hay 55 resultados para Action.\n",
      "Año: 2018: Hay 41 resultados para Comedy.\n",
      "Año: 2018: Hay 49 resultados para Drama.\n",
      "----------------------------------------------------------------------------------------------------\n",
      "Año: 2019: Hay 41 resultados para Action.\n",
      "Año: 2019: Hay 56 resultados para Comedy.\n",
      "Año: 2019: Hay 110 resultados para Drama.\n",
      "----------------------------------------------------------------------------------------------------\n",
      "Año: 2020: Hay 171 resultados para Action.\n",
      "Año: 2020: Hay 139 resultados para Comedy.\n",
      "Año: 2020: Hay 196 resultados para Drama.\n",
      "----------------------------------------------------------------------------------------------------\n",
      "Año: 2021: Hay 226 resultados para Action.\n",
      "Año: 2021: Hay 252 resultados para Comedy.\n",
      "Año: 2021: Hay 305 resultados para Drama.\n",
      "----------------------------------------------------------------------------------------------------\n",
      "Año: 2022: Hay 216 resultados para Action.\n",
      "Año: 2022: Hay 249 resultados para Comedy.\n",
      "Año: 2022: Hay 262 resultados para Drama.\n",
      "----------------------------------------------------------------------------------------------------\n",
      "Año: 2023: Hay 164 resultados para Action.\n",
      "Año: 2023: Hay 116 resultados para Comedy.\n",
      "Año: 2023: Hay 146 resultados para Drama.\n",
      "----------------------------------------------------------------------------------------------------\n",
      "Año: 2024: Hay 98 resultados para Action.\n",
      "Año: 2024: Hay 76 resultados para Comedy.\n",
      "Año: 2024: Hay 80 resultados para Drama.\n",
      "----------------------------------------------------------------------------------------------------\n",
      "La suma total de películas es:4074.\n"
     ]
    }
   ],
   "source": [
    "suma = 0\n",
    "for i in range(2010, 2025):\n",
    "    print(f\"Año: {i}: Hay {len(resultados_filtrados[i]['Action'])} resultados para Action.\")\n",
    "    print(f\"Año: {i}: Hay {len(resultados_filtrados[i]['Comedy'])} resultados para Comedy.\")\n",
    "    print(f\"Año: {i}: Hay {len(resultados_filtrados[i]['Drama'])} resultados para Drama.\")\n",
    "    print(\"-----\"*20)\n",
    "    suma += len(resultados_filtrados[i]['Action'])\n",
    "    suma += len(resultados_filtrados[i]['Comedy'])\n",
    "    suma += len(resultados_filtrados[i]['Drama'])\n",
    "    \n",
    "print(f\"La suma total de películas es:{suma}.\")\n"
   ]
  },
  {
   "cell_type": "code",
   "execution_count": 272,
   "metadata": {},
   "outputs": [
    {
     "data": {
      "text/plain": [
       "98"
      ]
     },
     "execution_count": 272,
     "metadata": {},
     "output_type": "execute_result"
    }
   ],
   "source": [
    "len(errores)"
   ]
  },
  {
   "cell_type": "code",
   "execution_count": 275,
   "metadata": {},
   "outputs": [],
   "source": [
    "df_error = pd.DataFrame(errores)\n",
    "df_error.to_csv('errores.csv')\n",
    "df_error.to_json('errores.json')"
   ]
  },
  {
   "cell_type": "code",
   "execution_count": 271,
   "metadata": {},
   "outputs": [
    {
     "data": {
      "text/plain": [
       "21000"
      ]
     },
     "execution_count": 271,
     "metadata": {},
     "output_type": "execute_result"
    }
   ],
   "source": [
    "# 14 años\n",
    "# 3 generos\n",
    "# 10 paginas\n",
    "# 50 pelis por pagina\n",
    "\n",
    "total_pelis = 14 * 3 * 10 * 50\n",
    "total_pelis"
   ]
  },
  {
   "cell_type": "markdown",
   "metadata": {},
   "source": [
    "# Fase 2"
   ]
  },
  {
   "cell_type": "code",
   "execution_count": 2,
   "metadata": {},
   "outputs": [],
   "source": [
    "url_imdb = \"https://www.imdb.com/\"\n",
    "url_rotten = \"https://www.rottentomatoes.com/\""
   ]
  },
  {
   "cell_type": "code",
   "execution_count": 277,
   "metadata": {},
   "outputs": [
    {
     "data": {
      "text/plain": [
       "[('Movie', 'Tekken', 2010, 3, 'tt0411951'),\n",
       " ('Movie', 'Venus & Vegas', 2010, 11, 'tt0423474'),\n",
       " ('Movie', 'The A-Team', 2010, 6, 'tt0429493'),\n",
       " ('Movie', 'Segurança Nacional', 2010, 5, 'tt0439801'),\n",
       " ('Movie', 'Scott Pilgrim vs. the World', 2010, 11, 'tt0446029'),\n",
       " ('Movie', 'Taken by Force', 2010, None, 'tt0465637'),\n",
       " ('Movie', 'Guns, Drugs and Dirty Money', 2011, None, 'tt0464032'),\n",
       " ('Movie', 'Komaram Puli', 2010, 9, 'tt0464162'),\n",
       " ('Movie', 'Prince of Persia: The Sands of Time', 2010, 5, 'tt0473075'),\n",
       " ('Movie', 'Unstoppable', 2010, 12, 'tt0477080')]"
      ]
     },
     "execution_count": 277,
     "metadata": {},
     "output_type": "execute_result"
    }
   ],
   "source": [
    "resultados_filtrados[2010]['Action'][0:10]"
   ]
  },
  {
   "cell_type": "code",
   "execution_count": 16,
   "metadata": {},
   "outputs": [],
   "source": [
    "# Inicializa el navegador Chrome y maximiza la ventana\n",
    "driver = webdriver.Chrome()\n",
    "sleep(3)\n",
    "driver.maximize_window()\n",
    "\n",
    "# Navega a la página web \"https://www.imdb.com/\"\n",
    "driver.get(\"https://www.imdb.com/\")\n",
    "sleep(3)\n",
    "\n",
    "# Acepta las cookies haciendo clic en el elemento con el selector CSS \"#didomi-notice-agree-button\"\n",
    "driver.find_element(\"css selector\", \"#__next > div > div > div.sc-jrcTuL.bPmWiM > div > button.icb-btn.sc-bcXHqe.sc-dkrFOg.sc-iBYQkv.dcvrLS.ddtuHe.dRCGjd\").click()\n",
    "sleep(3)\n",
    "\n",
    "\n",
    "\n",
    "\n",
    "\n",
    "\n",
    "# Iterar por los ids_imdbs para pasarlos por aqui:\n",
    "# driver.find_element(\"css selector\", \"#suggestion-search\").send_keys(imdb_id, Keys.ENTER)\n",
    "# sleep(3)\n",
    "\n",
    "\n",
    "\n",
    "\n",
    "\n",
    "# # Crear un diccionario para almacenar información de los resultados\n",
    "# diccionario_resultados = {\"nombre\":[], \n",
    "#                           \"precio\":[],\n",
    "#                           \"puntuación\":[]}\n",
    "\n",
    "# # Crear una lista vacía para almacenar las URLs de productos\n",
    "# lista_url = []\n",
    "# # Iterar desde 1 hasta 5 (inclusive)\n",
    "# for i in range(1, 6):\n",
    "#     # En cada iteración, obtener la URL del producto y agregarla a la lista\n",
    "#     lista_url.append(driver.find_element(\"css selector\", f'#app > main > div.list-body.svelte-duar7s > section.listing-section.svelte-duar7s > div > div:nth-child({i}) > div.product-block-top-main.vtmn-relative.vtmn-flex.vtmn-flex-col.vtmn-w-full.vtmn-items-start > div.dpb-models.vtmn-relative.vtmn-self-center.svelte-1ambt2m > div > a').get_attribute(\"href\"))\n"
   ]
  }
 ],
 "metadata": {
  "kernelspec": {
   "display_name": "base",
   "language": "python",
   "name": "python3"
  },
  "language_info": {
   "codemirror_mode": {
    "name": "ipython",
    "version": 3
   },
   "file_extension": ".py",
   "mimetype": "text/x-python",
   "name": "python",
   "nbconvert_exporter": "python",
   "pygments_lexer": "ipython3",
   "version": "3.11.9"
  }
 },
 "nbformat": 4,
 "nbformat_minor": 2
}
